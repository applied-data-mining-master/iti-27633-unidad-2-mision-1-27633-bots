{
 "cells": [
  {
   "cell_type": "markdown",
   "metadata": {},
   "source": [
    "# Exercise 3.01: Predicting Risk of Credit Card Default (Loading the Dataset)\n",
    "\n",
    "In this exercise, we will be loading a dataset into a pandas DataFrame and exploring its contents. We will use the dataset of German credit approvals to determine whether an individual presents a risk of defaulting.\n",
    "\n",
    "  > The original dataset and information regarding the dataset can be found [here](https://archive.ics.uci.edu/ml/datasets/Statlog+%28German+Credit+Data%29).  \n",
    "  > The data files are located [here](https://archive.ics.uci.edu/ml/machine-learning-databases/statlog/german/).  \n",
    "  > *Citation - Dua, D., & Graff, C.. (2017). UCI Machine Learning Repository*."
   ]
  },
  {
   "cell_type": "markdown",
   "metadata": {},
   "source": [
    "1.- Import the `pandas` package as `pd`"
   ]
  },
  {
   "cell_type": "code",
   "execution_count": null,
   "metadata": {},
   "outputs": [],
   "source": []
  },
  {
   "cell_type": "markdown",
   "metadata": {},
   "source": [
    "2.- Create a new variable called file_url, which will contain the URL to the raw dataset file. Use the `data/german_credit.csv` file."
   ]
  },
  {
   "cell_type": "code",
   "execution_count": null,
   "metadata": {},
   "outputs": [],
   "source": []
  },
  {
   "cell_type": "markdown",
   "metadata": {},
   "source": [
    "3.- Import the data using the `pd.read_csv()` method. This creates a new Data Frame object that contains the data."
   ]
  },
  {
   "cell_type": "code",
   "execution_count": null,
   "metadata": {},
   "outputs": [],
   "source": []
  },
  {
   "cell_type": "markdown",
   "metadata": {},
   "source": [
    "4.- Use `df.head()` to print the first five rows of the DataFrame\n",
    "\n",
    "Output:\n",
    "\n",
    "![Figure 3.2](img/fig3_02.jpg)\n",
    "\n",
    "As you can see, the output in the preceding screenshot shows us the features of the dataset, which can be either numerical or categorical (text)."
   ]
  },
  {
   "cell_type": "code",
   "execution_count": null,
   "metadata": {},
   "outputs": [],
   "source": []
  },
  {
   "cell_type": "markdown",
   "metadata": {},
   "source": [
    "5.- Use `df.tail()` to print the last five rows of the DataFrame\n",
    "\n",
    "Output:\n",
    "\n",
    "![Figure 3.3](img/fig3_03.jpg)\n",
    "\n",
    "The last rows of the DataFrame are very similar to the first ones we saw earlier, so we can assume the structure is consistent across the rows."
   ]
  },
  {
   "cell_type": "markdown",
   "metadata": {},
   "source": [
    "6.- Use df.dtypes to print the list of columns and their data types\n",
    "\n",
    "Output:\n",
    "\n",
    "![Figure 3.4](img/fig3_04.jpg)"
   ]
  },
  {
   "cell_type": "code",
   "execution_count": null,
   "metadata": {},
   "outputs": [],
   "source": []
  },
  {
   "cell_type": "code",
   "execution_count": null,
   "metadata": {},
   "outputs": [],
   "source": []
  }
 ],
 "metadata": {
  "kernelspec": {
   "display_name": "Python 3",
   "language": "python",
   "name": "python3"
  },
  "language_info": {
   "codemirror_mode": {
    "name": "ipython",
    "version": 3
   },
   "file_extension": ".py",
   "mimetype": "text/x-python",
   "name": "python",
   "nbconvert_exporter": "python",
   "pygments_lexer": "ipython3",
   "version": "3.8.5"
  }
 },
 "nbformat": 4,
 "nbformat_minor": 4
}
